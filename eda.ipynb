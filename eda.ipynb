{
 "cells": [
  {
   "cell_type": "code",
   "execution_count": 1,
   "id": "33bfb72f-a9f4-46e2-b8df-a78428895337",
   "metadata": {},
   "outputs": [],
   "source": [
    "from mongoengine import connect\n",
    "from uatube.models import Channel, Subscription"
   ]
  },
  {
   "cell_type": "code",
   "execution_count": 2,
   "id": "cbe0870e-c6b7-473b-9cc1-0ba26185e6b2",
   "metadata": {},
   "outputs": [
    {
     "data": {
      "text/plain": [
       "MongoClient(host=['localhost:51999'], document_class=dict, tz_aware=False, connect=True, read_preference=Primary(), uuidrepresentation=3)"
      ]
     },
     "execution_count": 2,
     "metadata": {},
     "output_type": "execute_result"
    }
   ],
   "source": [
    "connect(db='uatube', host='localhost', port=51999)"
   ]
  },
  {
   "cell_type": "code",
   "execution_count": 25,
   "id": "39c39e89-6df1-424b-896e-7d9e15e34f01",
   "metadata": {},
   "outputs": [],
   "source": [
    "cursor = Channel.objects(has_opened_subscriptions=True)"
   ]
  },
  {
   "cell_type": "code",
   "execution_count": 26,
   "id": "1789a0f8-6295-42ee-82d7-a3916a16cdaa",
   "metadata": {},
   "outputs": [],
   "source": [
    "channels = list(cursor)"
   ]
  },
  {
   "cell_type": "code",
   "execution_count": 28,
   "id": "bd63c7f6-ed44-4187-86e4-57e47b4691e2",
   "metadata": {},
   "outputs": [
    {
     "data": {
      "text/plain": [
       "{'UC-HNFt8XqtMXgkBlZB83v3A': 34,\n",
       " 'UCL0tSwuCfEQi6EFSUJd83VQ': 156,\n",
       " 'UCNfxB3nWgDIpkItC6KSqKsw': 162,\n",
       " 'UCZuW4AUy-HuCUUMTLajX4Uw': 25,\n",
       " 'UCxp1-LnjacWPhInrSE96ikg': 12,\n",
       " 'UCfNrBzcNw_7ymcDi1CK_C8w': 78,\n",
       " 'UCy3biyiu0UWvWjoFTvMcbbw': 13,\n",
       " 'UCb6fUN4-UvIRtYmwtR-PeOg': 24,\n",
       " 'UCg7T647ROSeONOCHeNMBduQ': 47,\n",
       " 'UCWRZ7gEgbry5FI2-46EX3jA': 49,\n",
       " 'UC_FR3B7aW2Ke2acWi54PWTA': 15,\n",
       " 'UCsWMSE0bHdHLCqsMXUfQeSA': 10,\n",
       " 'UCZtTmVSdLps7HoiJNGy2N5Q': 31,\n",
       " 'UCS69bcGLxF0OuwXbnspVhPQ': 8,\n",
       " 'UCig7t6LFOjS2fKkhjbVLpjw': 48,\n",
       " 'UCHZIF31Cnb89AzcFt7Xu9dg': 42,\n",
       " 'UCTY4zQ2wDTZk91XeKXWUk7Q': 27,\n",
       " 'UC1Q2MLy0DEswY-1ZheTcYig': 44,\n",
       " 'UCsSYbcw93UcytV39VTmvQWg': 50}"
      ]
     },
     "execution_count": 28,
     "metadata": {},
     "output_type": "execute_result"
    }
   ],
   "source": [
    "source_channel = {}\n",
    "\n",
    "for channel in channels:\n",
    "    for source in channel.found_from_channel:\n",
    "        if source not in source_channel:\n",
    "            source_channel.setdefault(source, 1)\n",
    "        else:\n",
    "            source_channel[source] = source_channel[source] + 1\n",
    "\n",
    "source_channel"
   ]
  },
  {
   "cell_type": "code",
   "execution_count": 30,
   "id": "10b1f63c-cb32-4bb1-a2e1-024377bc8d89",
   "metadata": {
    "scrolled": true
   },
   "outputs": [
    {
     "data": {
      "text/plain": [
       "[{'channel_id': 'UC-HNFt8XqtMXgkBlZB83v3A',\n",
       "  'channel_name': 'Yanina Sokolova',\n",
       "  'channel_url': 'https://www.youtube.com/channel/UC-HNFt8XqtMXgkBlZB83v3A',\n",
       "  'proportion': 0.040487783480282494,\n",
       "  'num_users': 243},\n",
       " {'channel_id': 'UCZuW4AUy-HuCUUMTLajX4Uw',\n",
       "  'channel_name': 'Mary. lvk',\n",
       "  'channel_url': 'https://www.youtube.com/channel/UCZuW4AUy-HuCUUMTLajX4Uw',\n",
       "  'proportion': 0.024345308593235953,\n",
       "  'num_users': 146},\n",
       " {'channel_id': 'UCxp1-LnjacWPhInrSE96ikg',\n",
       "  'channel_name': 'Liolik Ua',\n",
       "  'channel_url': 'https://www.youtube.com/channel/UCxp1-LnjacWPhInrSE96ikg',\n",
       "  'proportion': 0.025924463745229637,\n",
       "  'num_users': 156},\n",
       " {'channel_id': 'UCfNrBzcNw_7ymcDi1CK_C8w',\n",
       "  'channel_name': 'Aleksey Durnev',\n",
       "  'channel_url': 'https://www.youtube.com/channel/UCfNrBzcNw_7ymcDi1CK_C8w',\n",
       "  'proportion': 0.06053428082642453,\n",
       "  'num_users': 363},\n",
       " {'channel_id': 'UCy3biyiu0UWvWjoFTvMcbbw',\n",
       "  'channel_name': 'НАС.Інфо',\n",
       "  'channel_url': 'https://www.youtube.com/channel/UCy3biyiu0UWvWjoFTvMcbbw',\n",
       "  'proportion': 0.03662762644207571,\n",
       "  'num_users': 220},\n",
       " {'channel_id': 'UCb6fUN4-UvIRtYmwtR-PeOg',\n",
       "  'channel_name': 'Корупція.Інфо',\n",
       "  'channel_url': 'https://www.youtube.com/channel/UCb6fUN4-UvIRtYmwtR-PeOg',\n",
       "  'proportion': 0.07237794446637716,\n",
       "  'num_users': 434},\n",
       " {'channel_id': 'UCg7T647ROSeONOCHeNMBduQ',\n",
       "  'channel_name': 'Бутусов Плюс',\n",
       "  'channel_url': 'https://www.youtube.com/channel/UCg7T647ROSeONOCHeNMBduQ',\n",
       "  'proportion': 0.042330131157608454,\n",
       "  'num_users': 254},\n",
       " {'channel_id': 'UC_FR3B7aW2Ke2acWi54PWTA',\n",
       "  'channel_name': 'Телеканал ATR',\n",
       "  'channel_url': 'https://www.youtube.com/channel/UC_FR3B7aW2Ke2acWi54PWTA',\n",
       "  'proportion': 0.023643461859016536,\n",
       "  'num_users': 142},\n",
       " {'channel_id': 'UCsWMSE0bHdHLCqsMXUfQeSA',\n",
       "  'channel_name': 'Народна Думка',\n",
       "  'channel_url': 'https://www.youtube.com/channel/UCsWMSE0bHdHLCqsMXUfQeSA',\n",
       "  'proportion': 0.04171601526516647,\n",
       "  'num_users': 250},\n",
       " {'channel_id': 'UCZtTmVSdLps7HoiJNGy2N5Q',\n",
       "  'channel_name': 'DZIDZIO',\n",
       "  'channel_url': 'https://www.youtube.com/user/DzidzioTube/videos',\n",
       "  'proportion': 0.03768039654340483,\n",
       "  'num_users': 226},\n",
       " {'channel_id': 'UCS69bcGLxF0OuwXbnspVhPQ',\n",
       "  'channel_name': 'MED MUSIC',\n",
       "  'channel_url': 'https://www.youtube.com/channel/UCS69bcGLxF0OuwXbnspVhPQ',\n",
       "  'proportion': 0.023380269333684256,\n",
       "  'num_users': 140},\n",
       " {'channel_id': 'UCL0tSwuCfEQi6EFSUJd83VQ',\n",
       "  'channel_name': 'Andro-news.com',\n",
       "  'channel_url': 'https://www.youtube.com/channel/UCL0tSwuCfEQi6EFSUJd83VQ',\n",
       "  'proportion': 0.06097293503531166,\n",
       "  'num_users': 366},\n",
       " {'channel_id': 'UCHZIF31Cnb89AzcFt7Xu9dg',\n",
       "  'channel_name': 'Food Around The World',\n",
       "  'channel_url': 'https://www.youtube.com/channel/UCHZIF31Cnb89AzcFt7Xu9dg',\n",
       "  'proportion': 0.05658639294644032,\n",
       "  'num_users': 340},\n",
       " {'channel_id': 'UCTY4zQ2wDTZk91XeKXWUk7Q',\n",
       "  'channel_name': 'Football Hub',\n",
       "  'channel_url': 'https://www.youtube.com/channel/UCTY4zQ2wDTZk91XeKXWUk7Q',\n",
       "  'proportion': 0.027328157213668464,\n",
       "  'num_users': 164},\n",
       " {'channel_id': 'UC1Q2MLy0DEswY-1ZheTcYig',\n",
       "  'channel_name': 'імені Т.Г. Шевченка',\n",
       "  'channel_url': 'https://www.youtube.com/channel/UC1Q2MLy0DEswY-1ZheTcYig',\n",
       "  'proportion': 0.04031232179672764,\n",
       "  'num_users': 242},\n",
       " {'channel_id': 'UCig7t6LFOjS2fKkhjbVLpjw',\n",
       "  'channel_name': 'Загін Кіноманів',\n",
       "  'channel_url': 'https://www.youtube.com/channel/UCig7t6LFOjS2fKkhjbVLpjw',\n",
       "  'proportion': 0.028380927314997587,\n",
       "  'num_users': 170},\n",
       " {'channel_id': 'UCsSYbcw93UcytV39VTmvQWg',\n",
       "  'channel_name': 'Пешка',\n",
       "  'channel_url': 'https://www.youtube.com/channel/UCsSYbcw93UcytV39VTmvQWg',\n",
       "  'proportion': 0.13773742159056016,\n",
       "  'num_users': 826},\n",
       " {'channel_id': 'UCWRZ7gEgbry5FI2-46EX3jA',\n",
       "  'channel_name': 'Армія TV – Військове телебачення України',\n",
       "  'channel_url': 'https://www.youtube.com/user/ctrsTVua',\n",
       "  'proportion': 0.037066280650962846,\n",
       "  'num_users': 222},\n",
       " {'channel_id': 'UCNfxB3nWgDIpkItC6KSqKsw',\n",
       "  'channel_name': 'Ridddle UA',\n",
       "  'channel_url': 'https://www.youtube.com/channel/UCNfxB3nWgDIpkItC6KSqKsw',\n",
       "  'proportion': 0.15440628152827127,\n",
       "  'num_users': 926},\n",
       " {'channel_id': 'UCgJp4twc6poiQQsCPW_xv-g',\n",
       "  'channel_name': 'Family is…',\n",
       "  'channel_url': 'https://www.youtube.com/channel/UCgJp4twc6poiQQsCPW_xv-g',\n",
       "  'proportion': 0.02816160021055402,\n",
       "  'num_users': 169}]"
      ]
     },
     "execution_count": 30,
     "metadata": {},
     "output_type": "execute_result"
    }
   ],
   "source": [
    "import json\n",
    "\n",
    "with open(\"sample_20_with_props.json\", 'r', encoding='utf-8') as f:\n",
    "    manifest_20 = json.load(f)\n",
    "\n",
    "manifest_20"
   ]
  },
  {
   "cell_type": "code",
   "execution_count": 34,
   "id": "dbb5d42d-dbc6-46fc-ba70-cd8fbdd04d1f",
   "metadata": {},
   "outputs": [],
   "source": [
    "source_channel_name = {c['channel_name']:source_channel[c['channel_id']]for c in manifest_20 if c['channel_id'] in source_channel}"
   ]
  },
  {
   "cell_type": "code",
   "execution_count": 39,
   "id": "0456198b-d9bf-41e7-8de8-21dad5b999c8",
   "metadata": {},
   "outputs": [],
   "source": [
    "total = sum(source_channel_name.values())"
   ]
  },
  {
   "cell_type": "code",
   "execution_count": 40,
   "id": "6ca2508c-330e-40fc-9793-2b07f2cbecb9",
   "metadata": {},
   "outputs": [],
   "source": [
    "source_channel_props = {k:{\"count\": v, \"prop\": v/total} for k, v in source_channel_name.items()}"
   ]
  },
  {
   "cell_type": "code",
   "execution_count": 41,
   "id": "8649b54b-c7d0-4e63-a01c-09492ad776e3",
   "metadata": {},
   "outputs": [
    {
     "data": {
      "text/plain": [
       "{'Yanina Sokolova': {'count': 34, 'prop': 0.038857142857142854},\n",
       " 'Mary. lvk': {'count': 25, 'prop': 0.02857142857142857},\n",
       " 'Liolik Ua': {'count': 12, 'prop': 0.013714285714285714},\n",
       " 'Aleksey Durnev': {'count': 78, 'prop': 0.08914285714285715},\n",
       " 'НАС.Інфо': {'count': 13, 'prop': 0.014857142857142857},\n",
       " 'Корупція.Інфо': {'count': 24, 'prop': 0.027428571428571427},\n",
       " 'Бутусов Плюс': {'count': 47, 'prop': 0.053714285714285714},\n",
       " 'Телеканал ATR': {'count': 15, 'prop': 0.017142857142857144},\n",
       " 'Народна Думка': {'count': 10, 'prop': 0.011428571428571429},\n",
       " 'DZIDZIO': {'count': 31, 'prop': 0.03542857142857143},\n",
       " 'MED MUSIC': {'count': 8, 'prop': 0.009142857142857144},\n",
       " 'Andro-news.com': {'count': 156, 'prop': 0.1782857142857143},\n",
       " 'Food Around The World': {'count': 42, 'prop': 0.048},\n",
       " 'Football Hub': {'count': 27, 'prop': 0.030857142857142857},\n",
       " 'імені Т.Г. Шевченка': {'count': 44, 'prop': 0.05028571428571429},\n",
       " 'Загін Кіноманів': {'count': 48, 'prop': 0.054857142857142854},\n",
       " 'Пешка': {'count': 50, 'prop': 0.05714285714285714},\n",
       " 'Армія TV – Військове телебачення України': {'count': 49, 'prop': 0.056},\n",
       " 'Ridddle UA': {'count': 162, 'prop': 0.18514285714285714}}"
      ]
     },
     "execution_count": 41,
     "metadata": {},
     "output_type": "execute_result"
    }
   ],
   "source": [
    "source_channel_props"
   ]
  },
  {
   "cell_type": "code",
   "execution_count": 44,
   "id": "cf418606-1ad0-4676-b141-1eb903789191",
   "metadata": {},
   "outputs": [],
   "source": [
    "total_channels_pipeline = [\n",
    "  {\n",
    "    \"$group\":\n",
    "      {\n",
    "        \"_id\": \"$subscriber_id\",\n",
    "        \"total_channels\": {\n",
    "          \"$sum\": 1,\n",
    "        },\n",
    "      },\n",
    "  },\n",
    "  {\n",
    "    \"$sort\":\n",
    "      {\n",
    "        \"total_channels\": -1,\n",
    "      },\n",
    "  },\n",
    "]\n",
    "\n",
    "cursor = Subscription.objects().aggregate(total_channels_pipeline)\n",
    "\n",
    "total_channels_per_subscriber = list(cursor)"
   ]
  },
  {
   "cell_type": "code",
   "execution_count": 54,
   "id": "ab4ac3ac-46aa-40b2-b75c-78b2d49d76f4",
   "metadata": {},
   "outputs": [],
   "source": [
    "import pandas as pd\n",
    "import seaborn as sns\n",
    "import matplotlib.pyplot as plt"
   ]
  },
  {
   "cell_type": "code",
   "execution_count": 47,
   "id": "cbc6a7b0-c551-4125-bfa3-35c2d94a56a0",
   "metadata": {},
   "outputs": [],
   "source": [
    "dataset = pd.DataFrame.from_dict(total_channels_per_subscriber)"
   ]
  },
  {
   "cell_type": "code",
   "execution_count": 66,
   "id": "c73bf5a5-cc56-46bc-8781-51e9fc28aba3",
   "metadata": {},
   "outputs": [
    {
     "data": {
      "image/png": "[encoded data removed]",
      "text/plain": [
       "<Figure size 500x500 with 1 Axes>"
      ]
     },
     "metadata": {},
     "output_type": "display_data"
    }
   ],
   "source": [
    "sns.displot(data=dataset, x=\"total_channels\", kde=True, stat='density')\n",
    "plt.gca().set_xticks(range(0, max(dataset['total_channels']), 100))  # Set x-axis ticks every 10 points\n",
    "\n",
    "# Show plot\n",
    "plt.show()"
   ]
  },
  {
   "cell_type": "code",
   "execution_count": 64,
   "id": "24463abd-c79b-43b0-9b10-cbc0c97ff525",
   "metadata": {},
   "outputs": [
    {
     "data": {
      "image/png": "[encoded data removed]",
      "text/plain": [
       "<Figure size 1600x600 with 1 Axes>"
      ]
     },
     "metadata": {},
     "output_type": "display_data"
    }
   ],
   "source": [
    "plt.figure(figsize=(16, 6))\n",
    "sns.boxplot(data=dataset, x=\"total_channels\")\n",
    "\n",
    "plt.gca().set_xticks(range(0, max(dataset['total_channels']), 25))  # Set x-axis ticks every 10 points\n",
    "\n",
    "# Show plot\n",
    "plt.show()"
   ]
  },
  {
   "cell_type": "code",
   "execution_count": 71,
   "id": "233eb698-9634-4218-b18b-ccbd84ca47e3",
   "metadata": {},
   "outputs": [],
   "source": [
    "subs_pipeline = [\n",
    "    {\n",
    "        '$group': {\n",
    "            '_id': '$channel_id', \n",
    "            'count': {\n",
    "                '$count': {}\n",
    "            }, \n",
    "            'channel_title': {\n",
    "                '$first': '$channel_title'\n",
    "            }\n",
    "        }\n",
    "    }, {\n",
    "        '$sort': {\n",
    "            'count': -1\n",
    "        }\n",
    "    }\n",
    "]\n",
    "\n",
    "cursor = Subscription.objects().aggregate(subs_pipeline)\n",
    "\n",
    "subs = list(cursor)"
   ]
  },
  {
   "cell_type": "code",
   "execution_count": 74,
   "id": "3ac7432a-10ac-4fdc-a59a-a8d2bf63bcf1",
   "metadata": {},
   "outputs": [],
   "source": [
    "subs_df = pd.DataFrame.from_dict(subs)"
   ]
  },
  {
   "cell_type": "code",
   "execution_count": 86,
   "id": "b1e40fe3-f6b0-416f-8a55-737f22d94fbc",
   "metadata": {},
   "outputs": [
    {
     "data": {
      "text/plain": [
       "<seaborn.axisgrid.FacetGrid at 0x150447d30>"
      ]
     },
     "execution_count": 86,
     "metadata": {},
     "output_type": "execute_result"
    },
    {
     "data": {
      "image/png": "[encoded data removed]",
      "text/plain": [
       "<Figure size 500x500 with 1 Axes>"
      ]
     },
     "metadata": {},
     "output_type": "display_data"
    }
   ],
   "source": [
    "sns.displot(data=subs_df, x=\"count\", kde=False, bins=[1,2,5,10,15,20,30,40,50,100,150])"
   ]
  },
  {
   "cell_type": "code",
   "execution_count": null,
   "id": "639703ce-2c91-412f-94b6-7b7be758f1fa",
   "metadata": {},
   "outputs": [],
   "source": []
  }
 ],
 "metadata": {
  "kernelspec": {
   "display_name": "Python 3 (ipykernel)",
   "language": "python",
   "name": "python3"
  },
  "language_info": {
   "codemirror_mode": {
    "name": "ipython",
    "version": 3
   },
   "file_extension": ".py",
   "mimetype": "text/x-python",
   "name": "python",
   "nbconvert_exporter": "python",
   "pygments_lexer": "ipython3",
   "version": "3.10.12"
  }
 },
 "nbformat": 4,
 "nbformat_minor": 5
}
